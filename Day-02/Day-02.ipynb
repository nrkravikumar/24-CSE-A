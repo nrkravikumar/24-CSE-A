{
 "cells": [
  {
   "cell_type": "markdown",
   "id": "8f062a3c-135b-468e-a2ef-c3ce1acfdc99",
   "metadata": {},
   "source": [
    "# Python Basics"
   ]
  },
  {
   "cell_type": "markdown",
   "id": "d8a50396-3a9c-4f64-86c2-6b999e00daca",
   "metadata": {},
   "source": [
    "## Variable:\n",
    "    - To store a data\n",
    "    - It changes a data\n",
    "    Syntax:\n",
    "        variable_name = value"
   ]
  },
  {
   "cell_type": "markdown",
   "id": "c668ec3f-4635-4a7a-b5d7-ec6f0c88ed20",
   "metadata": {},
   "source": [
    "## Variable Assigments:\n",
    "    - single variable = single value\n",
    "    - n number of variables = n number of values\n",
    "    - single varialbe = n number of values\n",
    "    - n number of variables = single value"
   ]
  },
  {
   "cell_type": "code",
   "execution_count": 1,
   "id": "9cd4c70c-067f-47bd-b1e5-61f26d3744d8",
   "metadata": {},
   "outputs": [
    {
     "data": {
      "text/plain": [
       "25"
      ]
     },
     "execution_count": 1,
     "metadata": {},
     "output_type": "execute_result"
    }
   ],
   "source": [
    "a = 25\n",
    "a"
   ]
  },
  {
   "cell_type": "code",
   "execution_count": 2,
   "id": "157b7c69-0eab-42be-a0d8-958fa1b18a15",
   "metadata": {},
   "outputs": [
    {
     "data": {
      "text/plain": [
       "'89'"
      ]
     },
     "execution_count": 2,
     "metadata": {},
     "output_type": "execute_result"
    }
   ],
   "source": [
    "b = '89'\n",
    "b"
   ]
  },
  {
   "cell_type": "code",
   "execution_count": 3,
   "id": "ecbf6b39-cdd7-41b2-8578-f193568d617d",
   "metadata": {},
   "outputs": [
    {
     "data": {
      "text/plain": [
       "(25, '89')"
      ]
     },
     "execution_count": 3,
     "metadata": {},
     "output_type": "execute_result"
    }
   ],
   "source": [
    "a,b"
   ]
  },
  {
   "cell_type": "code",
   "execution_count": 5,
   "id": "695c0842-624f-4488-a714-c1e2773adc3d",
   "metadata": {},
   "outputs": [
    {
     "name": "stdout",
     "output_type": "stream",
     "text": [
      "25 89\n"
     ]
    }
   ],
   "source": [
    "print(a,b)"
   ]
  },
  {
   "cell_type": "code",
   "execution_count": 6,
   "id": "52ad8a0a-85c5-4f22-97fa-c968efd80c42",
   "metadata": {},
   "outputs": [
    {
     "name": "stdout",
     "output_type": "stream",
     "text": [
      "45 56.000\n"
     ]
    }
   ],
   "source": [
    "e,k = 45,'56.000'\n",
    "print(e,k)"
   ]
  },
  {
   "cell_type": "code",
   "execution_count": 8,
   "id": "5c72e679-f12d-4d79-850f-a5c194c1b4b7",
   "metadata": {},
   "outputs": [
    {
     "name": "stdout",
     "output_type": "stream",
     "text": [
      "1 45.0 True (3+5j) Rajesh None\n"
     ]
    }
   ],
   "source": [
    "k,p,j,n,h,d = 1,45.00,True,3+5j,\"Rajesh\",None\n",
    "print(k,p,j,n,h,d)"
   ]
  },
  {
   "cell_type": "code",
   "execution_count": 9,
   "id": "a28900d6-09f2-48b8-9589-2d856e7a8789",
   "metadata": {},
   "outputs": [
    {
     "ename": "ValueError",
     "evalue": "not enough values to unpack (expected 6, got 5)",
     "output_type": "error",
     "traceback": [
      "\u001b[1;31m---------------------------------------------------------------------------\u001b[0m",
      "\u001b[1;31mValueError\u001b[0m                                Traceback (most recent call last)",
      "Cell \u001b[1;32mIn[9], line 1\u001b[0m\n\u001b[1;32m----> 1\u001b[0m k,p,j,n,h,d \u001b[38;5;241m=\u001b[39m \u001b[38;5;241m1\u001b[39m,\u001b[38;5;241m45.00\u001b[39m,\u001b[38;5;28;01mTrue\u001b[39;00m,\u001b[38;5;241m3\u001b[39m\u001b[38;5;241m+\u001b[39m\u001b[38;5;241m5\u001b[39mj,\u001b[38;5;124m\"\u001b[39m\u001b[38;5;124mRajesh\u001b[39m\u001b[38;5;124m\"\u001b[39m\n\u001b[0;32m      2\u001b[0m \u001b[38;5;28mprint\u001b[39m(k,p,j,n,h,d)\n",
      "\u001b[1;31mValueError\u001b[0m: not enough values to unpack (expected 6, got 5)"
     ]
    }
   ],
   "source": [
    "k,p,j,n,h,d = 1,45.00,True,3+5j,\"Rajesh\"\n",
    "print(k,p,j,n,h,d)"
   ]
  },
  {
   "cell_type": "code",
   "execution_count": 10,
   "id": "04292069-7cf0-4c34-845f-31e5a0766f84",
   "metadata": {},
   "outputs": [
    {
     "ename": "ValueError",
     "evalue": "too many values to unpack (expected 4)",
     "output_type": "error",
     "traceback": [
      "\u001b[1;31m---------------------------------------------------------------------------\u001b[0m",
      "\u001b[1;31mValueError\u001b[0m                                Traceback (most recent call last)",
      "Cell \u001b[1;32mIn[10], line 1\u001b[0m\n\u001b[1;32m----> 1\u001b[0m k,p,j,n \u001b[38;5;241m=\u001b[39m \u001b[38;5;241m1\u001b[39m,\u001b[38;5;241m45.00\u001b[39m,\u001b[38;5;28;01mTrue\u001b[39;00m,\u001b[38;5;241m3\u001b[39m\u001b[38;5;241m+\u001b[39m\u001b[38;5;241m5\u001b[39mj,\u001b[38;5;124m\"\u001b[39m\u001b[38;5;124mRajesh\u001b[39m\u001b[38;5;124m\"\u001b[39m,\u001b[38;5;28;01mNone\u001b[39;00m\n\u001b[0;32m      2\u001b[0m \u001b[38;5;28mprint\u001b[39m(k,p,j,n,h,d)\n",
      "\u001b[1;31mValueError\u001b[0m: too many values to unpack (expected 4)"
     ]
    }
   ],
   "source": [
    "k,p,j,n = 1,45.00,True,3+5j,\"Rajesh\",None\n",
    "print(k,p,j,n,h,d)"
   ]
  },
  {
   "cell_type": "code",
   "execution_count": null,
   "id": "75be5a69-6fa3-43d9-91a2-1487b8d4e5af",
   "metadata": {},
   "outputs": [],
   "source": []
  }
 ],
 "metadata": {
  "kernelspec": {
   "display_name": "Python 3 (ipykernel)",
   "language": "python",
   "name": "python3"
  },
  "language_info": {
   "codemirror_mode": {
    "name": "ipython",
    "version": 3
   },
   "file_extension": ".py",
   "mimetype": "text/x-python",
   "name": "python",
   "nbconvert_exporter": "python",
   "pygments_lexer": "ipython3",
   "version": "3.9.6"
  }
 },
 "nbformat": 4,
 "nbformat_minor": 5
}
