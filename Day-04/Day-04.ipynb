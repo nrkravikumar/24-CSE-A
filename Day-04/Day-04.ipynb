{
 "cells": [
  {
   "cell_type": "code",
   "execution_count": 3,
   "id": "19ebccdd-a1f9-4632-8f45-497701d995d4",
   "metadata": {},
   "outputs": [
    {
     "name": "stdin",
     "output_type": "stream",
     "text": [
      " 11\n"
     ]
    },
    {
     "name": "stdout",
     "output_type": "stream",
     "text": [
      "Entered number is: 11\n"
     ]
    },
    {
     "name": "stdin",
     "output_type": "stream",
     "text": [
      " 4\n",
      " 5\n",
      " 7\n"
     ]
    },
    {
     "name": "stdout",
     "output_type": "stream",
     "text": [
      "Expresssion of 23x**2+3y**3+4z is: 771\n"
     ]
    }
   ],
   "source": [
    "n = int(input())\n",
    "print(f\"Entered number is: {n}\")\n",
    "if (n%2 == 0):\n",
    "    k,p = int(input()),int(input())\n",
    "    print(f\"Expresssion of 4x**2+6y is: {4*k**2+6*p}\")\n",
    "else:\n",
    "    a,b,c = int(input()),int(input()),int(input())\n",
    "    print(f\"Expresssion of 23x**2+3y**3+4z is: {23*a**2+3*b**3+4*c}\")"
   ]
  },
  {
   "cell_type": "markdown",
   "id": "00616964-ed96-4f60-a6fa-4260abfd072b",
   "metadata": {},
   "source": [
    "## Nested if:\n",
    "    Syntax:\n",
    "        if condition-1:\n",
    "            if condition-2:\n",
    "                //statement-1\n",
    "        else:\n",
    "            //statement-n\n",
    "    else -> Optional"
   ]
  },
  {
   "cell_type": "code",
   "execution_count": 8,
   "id": "c4310925-89fa-42f3-9a11-14e70fa756e3",
   "metadata": {},
   "outputs": [
    {
     "name": "stdin",
     "output_type": "stream",
     "text": [
      "Enter User Name: python\n",
      "Enter Password: 1222\n"
     ]
    },
    {
     "name": "stdout",
     "output_type": "stream",
     "text": [
      "Welcome User\n"
     ]
    }
   ],
   "source": [
    "usr,pwd=\"python\",\"1222\"\n",
    "user_name,password=input(\"Enter User Name:\"),input(\"Enter Password:\")\n",
    "if(usr==user_name):\n",
    "    if(pwd==password):\n",
    "        print(\"Welcome User\")\n",
    "    else:\n",
    "        print(\"Invalid user name/password-\")\n",
    "else:\n",
    "    print(\"Invalid user name/password\")"
   ]
  },
  {
   "cell_type": "code",
   "execution_count": 4,
   "id": "6d8266e2-f966-4dff-af4f-30f37d738c5d",
   "metadata": {},
   "outputs": [
    {
     "name": "stdin",
     "output_type": "stream",
     "text": [
      "Enter the user name: 23\n"
     ]
    },
    {
     "name": "stdout",
     "output_type": "stream",
     "text": [
      "Invalid user name\n"
     ]
    }
   ],
   "source": [
    "stored_user=\"user123\"\n",
    "stored_pass=\"pass123\"\n",
    "user=input(\"Enter the user name:\")\n",
    "if(stored_user == user):\n",
    "    password=input(\"Enter the password:\")\n",
    "    if (stored_pass == password):\n",
    "        print(\"HELLO USER\")\n",
    "    else:\n",
    "        print(\"Invalid password\")\n",
    "else:\n",
    "    print(\"Invalid user name\")"
   ]
  },
  {
   "cell_type": "code",
   "execution_count": 6,
   "id": "1c270817-4ce8-4101-af54-3606a3ba2ed2",
   "metadata": {},
   "outputs": [
    {
     "name": "stdin",
     "output_type": "stream",
     "text": [
      "Enter college name:  KEC\n",
      "Enter your branch:  ECE\n"
     ]
    },
    {
     "name": "stdout",
     "output_type": "stream",
     "text": [
      "Entered branch ECE not belongs to CSE\n"
     ]
    }
   ],
   "source": [
    "a=input(\"Enter college name: \")\n",
    "if a == \"KEC\":\n",
    "    b=input(\"Enter your branch: \")\n",
    "    if b == \"CSE\":\n",
    "        c=input(\"Enter year: \")\n",
    "        if c == \"2\":\n",
    "            n = input(\"Enter your name: \")\n",
    "            if n == \"ramu\":\n",
    "                print(f\"Hello User {n}\")\n",
    "            else:\n",
    "                print(f\"Entered name {n} not belongs to ramu\")\n",
    "        else:\n",
    "            print(f\"Entered year {c} not belongs to 2\")\n",
    "    else:\n",
    "        print(f\"Entered branch {b} not belongs to CSE\")\n",
    "else:\n",
    "    print(f\"Entered college {a} not belongs to KEC\")\n",
    "    \n",
    "    "
   ]
  },
  {
   "cell_type": "markdown",
   "id": "4074c2de-9257-4bc8-a783-96e426eff0a4",
   "metadata": {},
   "source": [
    "## elif\n",
    "```\n",
    "Syntax:\n",
    "    if condition-1:\n",
    "        //statement-1\n",
    "    elif condition-2:\n",
    "        //statement-2\n",
    "    elif condition-3:\n",
    "        //statement-3\n",
    "        |      |\n",
    "    elif condition-n:\n",
    "        //statement-n\n",
    "    else:\n",
    "        //statement(n-2)\n",
    "```"
   ]
  },
  {
   "cell_type": "code",
   "execution_count": 12,
   "id": "775a7d71-a0c5-4ffc-86c1-97b4cbbd4fc6",
   "metadata": {},
   "outputs": [
    {
     "name": "stdin",
     "output_type": "stream",
     "text": [
      "Enter a number:  9\n"
     ]
    },
    {
     "name": "stdout",
     "output_type": "stream",
     "text": [
      "Odd\n"
     ]
    }
   ],
   "source": [
    "n = int(input(\"Enter a number: \"))\n",
    "if n>30:\n",
    "    print(\"Greater than 30\")\n",
    "elif n%5 == 0:\n",
    "    print(\"Divisible by 5\")\n",
    "elif n%2 == 0:\n",
    "    print(\"Even\")\n",
    "else:\n",
    "    print(\"Odd\")    "
   ]
  },
  {
   "cell_type": "code",
   "execution_count": null,
   "id": "b3d8a811-824d-4226-a42f-116886d2d4b4",
   "metadata": {},
   "outputs": [],
   "source": []
  }
 ],
 "metadata": {
  "kernelspec": {
   "display_name": "Python 3 (ipykernel)",
   "language": "python",
   "name": "python3"
  },
  "language_info": {
   "codemirror_mode": {
    "name": "ipython",
    "version": 3
   },
   "file_extension": ".py",
   "mimetype": "text/x-python",
   "name": "python",
   "nbconvert_exporter": "python",
   "pygments_lexer": "ipython3",
   "version": "3.9.6"
  }
 },
 "nbformat": 4,
 "nbformat_minor": 5
}
