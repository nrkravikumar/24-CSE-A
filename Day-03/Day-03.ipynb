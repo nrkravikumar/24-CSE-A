{
 "cells": [
  {
   "cell_type": "code",
   "execution_count": 1,
   "id": "40c01506-ebda-4125-bc04-62b01a717eb4",
   "metadata": {},
   "outputs": [
    {
     "name": "stdout",
     "output_type": "stream",
     "text": [
      "(45, 23.0121, False, None, (6+7j))\n"
     ]
    }
   ],
   "source": [
    "k = 45,23.0121,False,None,6+7j\n",
    "print(k)"
   ]
  },
  {
   "cell_type": "code",
   "execution_count": 2,
   "id": "d0e8b684-d722-4799-a76b-9a1e81d84873",
   "metadata": {},
   "outputs": [
    {
     "name": "stdout",
     "output_type": "stream",
     "text": [
      "450 450 450\n"
     ]
    }
   ],
   "source": [
    "a = h = p = 450\n",
    "print(a,h,p)"
   ]
  },
  {
   "cell_type": "markdown",
   "id": "e5d971e8-250a-46f4-9c5f-caf2f7e23070",
   "metadata": {},
   "source": [
    "## Data Types:\n",
    "    - int => numeric\n",
    "    - float => decimal\n",
    "    - boolean => True or False\n",
    "    - none => None\n",
    "    - complex => real and imaginary part\n",
    "    - All Data Structures[List,tuple,string,set and dictionary]"
   ]
  },
  {
   "cell_type": "markdown",
   "id": "5897b0be-17fa-47cc-95cd-f697dcb19dee",
   "metadata": {},
   "source": [
    "# Input Formatting:\n",
    "    - It prints a content inside of input\n",
    "    - It reads a data from the user\n",
    "    - By default the data type is string\n",
    "    Syntax:\n",
    "        variable_name = input(\"something content\")"
   ]
  },
  {
   "cell_type": "code",
   "execution_count": 3,
   "id": "ef23115c-fd78-4a1b-8fec-a59efa0939cd",
   "metadata": {},
   "outputs": [
    {
     "name": "stdin",
     "output_type": "stream",
     "text": [
      "Enter a value: 45\n"
     ]
    },
    {
     "name": "stdout",
     "output_type": "stream",
     "text": [
      "45\n"
     ]
    }
   ],
   "source": [
    "n = input(\"Enter a value:\")\n",
    "print(n)"
   ]
  },
  {
   "cell_type": "code",
   "execution_count": null,
   "id": "0ab14840-e93c-4076-9e10-530f853eed1c",
   "metadata": {},
   "outputs": [],
   "source": [
    "g = 20\n",
    "print(g)"
   ]
  },
  {
   "cell_type": "code",
   "execution_count": 4,
   "id": "1a79740b-cbb3-400f-bfe6-356f39d4d85e",
   "metadata": {},
   "outputs": [
    {
     "name": "stdin",
     "output_type": "stream",
     "text": [
      "Enter a value:  1\n",
      "Enter b value:  20.15\n"
     ]
    },
    {
     "name": "stdout",
     "output_type": "stream",
     "text": [
      "1 20.15\n"
     ]
    }
   ],
   "source": [
    "a = input(\"Enter a value: \")\n",
    "b = input(\"Enter b value: \")\n",
    "print(a,b)"
   ]
  },
  {
   "cell_type": "code",
   "execution_count": 5,
   "id": "acd0366b-d5ac-424b-acb8-087ea4942fb4",
   "metadata": {},
   "outputs": [
    {
     "name": "stdin",
     "output_type": "stream",
     "text": [
      "Enter a value:  45\n",
      "Enter b value:  89.021\n"
     ]
    },
    {
     "name": "stdout",
     "output_type": "stream",
     "text": [
      "45 89.021\n"
     ]
    }
   ],
   "source": [
    "a,b = input(\"Enter a value: \"),input(\"Enter b value: \")\n",
    "print(a,b)"
   ]
  },
  {
   "cell_type": "markdown",
   "id": "cb637482-53ba-46ef-82e1-c51874617148",
   "metadata": {},
   "source": [
    "## Type:\n",
    "    - To know the data type of a variable\n",
    "    Syntax:\n",
    "        type(variable_name)"
   ]
  },
  {
   "cell_type": "code",
   "execution_count": 7,
   "id": "70947728-b0b7-431e-9e69-f7f16a0642b3",
   "metadata": {},
   "outputs": [
    {
     "name": "stdin",
     "output_type": "stream",
     "text": [
      "Enter a value:  45\n"
     ]
    },
    {
     "data": {
      "text/plain": [
       "str"
      ]
     },
     "execution_count": 7,
     "metadata": {},
     "output_type": "execute_result"
    }
   ],
   "source": [
    "k = input(\"Enter a value: \")\n",
    "type(k)\n",
    "# print(k,type(k))"
   ]
  },
  {
   "cell_type": "markdown",
   "id": "12ae590b-31a9-41be-909d-492f336605de",
   "metadata": {},
   "source": [
    "## Type Casting:\n",
    "    - It converts one data type of value to another data type value\n",
    "    - int()\n",
    "    - float()\n",
    "    - str()\n",
    "    - bool()\n",
    "    - complex()\n",
    "    - All Data Structures[list(),tuple(),set() and dict()]"
   ]
  },
  {
   "cell_type": "code",
   "execution_count": 10,
   "id": "347b5ce4-dfd3-41b3-ae4f-bf546f2b0d0c",
   "metadata": {},
   "outputs": [
    {
     "name": "stdin",
     "output_type": "stream",
     "text": [
      "Enter a value:  12\n"
     ]
    },
    {
     "name": "stdout",
     "output_type": "stream",
     "text": [
      "12 <class 'str'>\n",
      "12 <class 'int'>\n",
      "12 12 <class 'str'> <class 'int'>\n"
     ]
    }
   ],
   "source": [
    "h = input(\"Enter a value: \")\n",
    "print(h,type(h))\n",
    "g = int(h)\n",
    "print(g,type(g))\n",
    "print(h,g,type(h),type(g))"
   ]
  },
  {
   "cell_type": "code",
   "execution_count": 13,
   "id": "65b37a88-99c3-406a-9141-0ecb230c1ec8",
   "metadata": {},
   "outputs": [
    {
     "name": "stdin",
     "output_type": "stream",
     "text": [
      "Enter a value:  52\n"
     ]
    },
    {
     "name": "stdout",
     "output_type": "stream",
     "text": [
      "52 <class 'int'>\n"
     ]
    }
   ],
   "source": [
    "n = int(input(\"Enter a value: \"))\n",
    "print(n,type(n))"
   ]
  },
  {
   "cell_type": "markdown",
   "id": "0192ea8b-41e4-468b-897e-5966d9ef2359",
   "metadata": {},
   "source": [
    "```\n",
    "Input:\n",
    "    Enter a value: 45\n",
    "    Enter b value: 68\n",
    "Output:\n",
    " Entered values are: '45','68'\n",
    " Entered a value is: '45'\n",
    " Entered b value is: '68'\n",
    "```"
   ]
  },
  {
   "cell_type": "markdown",
   "id": "65fcf9d5-fa40-458b-b97c-613de47e848d",
   "metadata": {},
   "source": [
    "## Output Formatting:\n",
    "    - , +\n",
    "    - format specifers\n",
    "    - .format\n",
    "    - f string"
   ]
  },
  {
   "cell_type": "code",
   "execution_count": 26,
   "id": "1648afe7-5900-4c30-9c6a-efcd9d40cbb2",
   "metadata": {},
   "outputs": [
    {
     "name": "stdin",
     "output_type": "stream",
     "text": [
      "Enter a value:  4\n",
      "Enter b value:  2\n"
     ]
    },
    {
     "name": "stdout",
     "output_type": "stream",
     "text": [
      "Entered values are: ' 4 ',' 2 '\n",
      "Entered values are: '4','2'\n",
      "Entered values are: '4','2'\n",
      "Entered values are: '2','4'\n",
      "Entered values are: '4','2'\n"
     ]
    }
   ],
   "source": [
    "a,b = int(input(\"Enter a value: \")),int(input(\"Enter b value: \"))\n",
    "print(\"Entered values are: '\",a,\"','\",b,\"'\")\n",
    "print(\"Entered values are: '\"+str(a)+\"','\"+str(b)+\"'\")\n",
    "print(\"Entered values are: '%d','%d'\"%(a,b))\n",
    "print(\"Entered values are: '{}','{}'\".format(b,a))\n",
    "print(f\"Entered values are: '{a}','{b}'\")"
   ]
  },
  {
   "cell_type": "code",
   "execution_count": 17,
   "id": "8d7ff34f-f028-4e50-8461-9e205dae55e4",
   "metadata": {},
   "outputs": [
    {
     "name": "stdout",
     "output_type": "stream",
     "text": [
      "782\n"
     ]
    }
   ],
   "source": [
    "t,b = \"78\",str(2)\n",
    "print(t+b)"
   ]
  },
  {
   "cell_type": "code",
   "execution_count": 28,
   "id": "dc035cbf-2fee-4557-8d63-488d6413cbbe",
   "metadata": {},
   "outputs": [
    {
     "name": "stdin",
     "output_type": "stream",
     "text": [
      "Enter a value:  5\n",
      "Enter b value:  6\n"
     ]
    },
    {
     "name": "stdout",
     "output_type": "stream",
     "text": [
      "Entered values are: '5' and '6'\n",
      "Entered a value is: '5'\n",
      "Entered b value is: '6'\n"
     ]
    }
   ],
   "source": [
    "n,m = int(input(\"Enter a value: \")),int(input(\"Enter b value: \"))\n",
    "print(f\"Entered values are: '{n}' and '{m}'\")\n",
    "print(f\"Entered a value is: '{n}'\")\n",
    "print(f\"Entered b value is: '{m}'\")"
   ]
  },
  {
   "cell_type": "markdown",
   "id": "e8175bbb-51ca-43a2-bdd4-8bba0e59efd3",
   "metadata": {},
   "source": [
    "## Operators:\n",
    "    - Arithmetic => +,-,*,/,%,//,** \n",
    "    - Relational => >,<,==,!=,>=,<=\n",
    "    - Bitwise => &,|,^,>>,<<\n",
    "    - Logical => AND,OR,NOt,XOR\n",
    "    - Assignment => +=,-=,*=,/=,%=,//=,**=\n",
    "    - Membership => in, not in\n",
    "    - Identity => is, is not"
   ]
  },
  {
   "cell_type": "markdown",
   "id": "24062dc7-8fc8-4d21-b446-f8c8873caa78",
   "metadata": {},
   "source": [
    "```\n",
    "Input:\n",
    "    Enter a value: ?\n",
    "    Enter b value: ?\n",
    "Output:\n",
    "    Sum of ? and ? is: ?\n",
    "    Sub of ? and ? is: ?\n",
    "    Mul of ? and ? is: ?\n",
    "    Div of ? and ? is: ?\n",
    "    Mod of ? and ? is: ?\n",
    "    Fld of ? and ? is: ?\n",
    "    Pow of ? and ? is: ?\n",
    "```"
   ]
  },
  {
   "cell_type": "code",
   "execution_count": 29,
   "id": "ae032670-45c0-4ee1-90e7-0bbeec4c6937",
   "metadata": {},
   "outputs": [
    {
     "name": "stdin",
     "output_type": "stream",
     "text": [
      "Enter a value:  2\n",
      "Enter b value:  6\n"
     ]
    },
    {
     "name": "stdout",
     "output_type": "stream",
     "text": [
      "Sum of 2 and 6 is: 8\n",
      "Sub of 2 and 6 is: -4\n",
      "Mul of 2 and 6 is: 12\n",
      "Div of 2 and 6 is: 0.3333333333333333\n",
      "Mod of 2 and 6 is: 2\n",
      "Fld of 2 and 6 is: 0\n",
      "Pow of 2 and 6 is: 64\n"
     ]
    }
   ],
   "source": [
    "n,m = int(input(\"Enter a value: \")),int(input(\"Enter b value: \"))\n",
    "print(f\"Sum of {n} and {m} is: {n+m}\")\n",
    "print(f\"Sub of {n} and {m} is: {n-m}\")\n",
    "print(f\"Mul of {n} and {m} is: {n*m}\")\n",
    "print(f\"Div of {n} and {m} is: {n/m}\")\n",
    "print(f\"Mod of {n} and {m} is: {n%m}\")\n",
    "print(f\"Fld of {n} and {m} is: {n//m}\")\n",
    "print(f\"Pow of {n} and {m} is: {n**m}\")"
   ]
  },
  {
   "cell_type": "code",
   "execution_count": 31,
   "id": "6feda8eb-6a54-4d24-afe7-1c9f4b0c53af",
   "metadata": {},
   "outputs": [
    {
     "name": "stdout",
     "output_type": "stream",
     "text": [
      "22\n",
      "45\n",
      "4\n",
      "4\n"
     ]
    }
   ],
   "source": [
    "w = 45\n",
    "t = 22\n",
    "print(w and t)\n",
    "print(t and w)\n",
    "print(w & t)\n",
    "print(t & w)"
   ]
  },
  {
   "cell_type": "code",
   "execution_count": 33,
   "id": "08f31151-651a-4783-9650-9c2c042f9a66",
   "metadata": {},
   "outputs": [
    {
     "name": "stdout",
     "output_type": "stream",
     "text": [
      "5\n",
      "89\n",
      "93\n",
      "93\n"
     ]
    }
   ],
   "source": [
    "q = 5\n",
    "p = 89\n",
    "print(q or p)\n",
    "print(p or q)\n",
    "print(q | p)\n",
    "print(p | q)"
   ]
  },
  {
   "cell_type": "code",
   "execution_count": 34,
   "id": "e40fd293-c6e7-4f0d-afe0-1f591384dca0",
   "metadata": {},
   "outputs": [
    {
     "name": "stdout",
     "output_type": "stream",
     "text": [
      "14\n",
      "448\n"
     ]
    }
   ],
   "source": [
    "t = 56\n",
    "print(t>>2)\n",
    "print(t<<3)"
   ]
  },
  {
   "cell_type": "markdown",
   "id": "2be1ffff-1ff6-47ed-ae97-f00818e25603",
   "metadata": {},
   "source": [
    "## Keywords"
   ]
  },
  {
   "cell_type": "code",
   "execution_count": 35,
   "id": "1cc45e7e-7c51-4540-8fe8-1d20c75e7361",
   "metadata": {},
   "outputs": [],
   "source": [
    "import keyword"
   ]
  },
  {
   "cell_type": "code",
   "execution_count": 37,
   "id": "a87972f0-f822-4daa-a678-4a61ba75c0d5",
   "metadata": {},
   "outputs": [
    {
     "name": "stdout",
     "output_type": "stream",
     "text": [
      "['False', 'None', 'True', '__peg_parser__', 'and', 'as', 'assert', 'async', 'await', 'break', 'class', 'continue', 'def', 'del', 'elif', 'else', 'except', 'finally', 'for', 'from', 'global', 'if', 'import', 'in', 'is', 'lambda', 'nonlocal', 'not', 'or', 'pass', 'raise', 'return', 'try', 'while', 'with', 'yield']\n",
      "36\n"
     ]
    }
   ],
   "source": [
    "print(keyword.kwlist)\n",
    "print(len(keyword.kwlist))"
   ]
  },
  {
   "cell_type": "markdown",
   "id": "fcf386c7-6875-409d-989e-988d7984d27d",
   "metadata": {},
   "source": [
    "## Conditional Statements:\n",
    "    - To check whether the given condition is either True or False\n",
    "    - if => single\n",
    "    - if-else => 2 cases\n",
    "    - elif => n number of cases\n",
    "    - nested if => n number of cases"
   ]
  },
  {
   "cell_type": "markdown",
   "id": "82330e0c-eca2-428a-85b4-1ef6f0067f90",
   "metadata": {},
   "source": [
    "```\n",
    "if\n",
    "    Syntax:\n",
    "        if(condition):\n",
    "            //statements\n",
    "    () => optional\n",
    "```"
   ]
  },
  {
   "cell_type": "markdown",
   "id": "0f0b0579-147f-42f8-8813-d6076a76d5d8",
   "metadata": {},
   "source": [
    "```\n",
    "Input:\n",
    "    3x**3\n",
    "    >10\n",
    "Output:\n",
    "    Entered value is: ?\n",
    "    Expression of 3x**3 is: ?\n",
    "```"
   ]
  },
  {
   "cell_type": "code",
   "execution_count": 39,
   "id": "338b855b-2e6d-4f50-aed0-499b1e22d411",
   "metadata": {},
   "outputs": [
    {
     "name": "stdin",
     "output_type": "stream",
     "text": [
      " 5\n"
     ]
    },
    {
     "name": "stdout",
     "output_type": "stream",
     "text": [
      "Entered value is: 5\n"
     ]
    }
   ],
   "source": [
    "g = int(input())\n",
    "print(f\"Entered value is: {g}\")\n",
    "if g>10:\n",
    "    print(f\"Expression of 3x**3 is: {3*g**3}\")"
   ]
  },
  {
   "cell_type": "markdown",
   "id": "7e263d05-b304-449d-bc3a-a1341a57b6f4",
   "metadata": {},
   "source": [
    "## if-else\n",
    "    Syntax:\n",
    "        if(condition):\n",
    "            //statement\n",
    "        else:\n",
    "            //statement"
   ]
  },
  {
   "cell_type": "markdown",
   "id": "2b357475-af16-49d2-ae59-0dec7d97f3e4",
   "metadata": {},
   "source": [
    "```\n",
    "Even: 4x**2+6y\n",
    "Odd: 23x**2+3y**3+4z\n",
    "Sample-1\n",
    "Input:\n",
    "    12\n",
    "    2\n",
    "    3\n",
    "Output:\n",
    "    Entered number is: 12\n",
    "    Expresssion of 4x**2+6y is: ?\n",
    "Sample-2\n",
    "Input:\n",
    "    11\n",
    "    34\n",
    "    7\n",
    "    4\n",
    "Output:\n",
    "    Entered number is: 11\n",
    "    Expresssion of 23x**2+3y**3+4z is: ? \n",
    "\n",
    "```"
   ]
  },
  {
   "cell_type": "code",
   "execution_count": null,
   "id": "2767547f-8976-46b8-a37d-5dc66bac4724",
   "metadata": {},
   "outputs": [],
   "source": []
  }
 ],
 "metadata": {
  "kernelspec": {
   "display_name": "Python 3 (ipykernel)",
   "language": "python",
   "name": "python3"
  },
  "language_info": {
   "codemirror_mode": {
    "name": "ipython",
    "version": 3
   },
   "file_extension": ".py",
   "mimetype": "text/x-python",
   "name": "python",
   "nbconvert_exporter": "python",
   "pygments_lexer": "ipython3",
   "version": "3.9.6"
  }
 },
 "nbformat": 4,
 "nbformat_minor": 5
}
