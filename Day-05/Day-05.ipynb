{
 "cells": [
  {
   "cell_type": "code",
   "execution_count": null,
   "id": "ffeabeaf-fb76-4e13-84c5-a225341fffb1",
   "metadata": {},
   "outputs": [],
   "source": [
    "n = int(input())\n",
    "if n%2 == 0:\n",
    "    if n>=2 and n<=5:\n",
    "        print(\"Not Weird\")\n",
    "    elif n>=6 and n<=20:\n",
    "        print(\"Weird\")\n",
    "    else:\n",
    "        print(\"Not Weird\")\n",
    "else:\n",
    "    print(\"Weird\")    "
   ]
  },
  {
   "cell_type": "code",
   "execution_count": null,
   "id": "e919e455-95c0-460e-b0db-f61a5d9318a4",
   "metadata": {},
   "outputs": [],
   "source": [
    "n = int(input())\n",
    "if n%2 == 0 and n>=2 and n<=5:\n",
    "    print(\"Not Weird\")\n",
    "elif n%2 == 0 and n>=6 and n<=20:\n",
    "    print(\"Weird\")\n",
    "elif n%2 == 0 and n>=20:\n",
    "    print(\"Not Weird\")\n",
    "else:\n",
    "    print(\"Weird\")    "
   ]
  },
  {
   "cell_type": "markdown",
   "id": "599f0a2f-71a3-4ef0-88db-b75d75d26fe6",
   "metadata": {},
   "source": [
    "## Loops:\n",
    "    - To iterate statement for n number of times untill condition is false\n",
    "    - for => known ranges\n",
    "    - while => known and Unknown ranges"
   ]
  },
  {
   "cell_type": "markdown",
   "id": "77af9922-2765-4cb8-9722-e1b5b746f150",
   "metadata": {},
   "source": [
    "## for \n",
    "    Syntax:\n",
    "        for iteration_variablename in range(start,stop,step):\n",
    "            //statements\n",
    "                                or\n",
    "        for iteration_variablename in iterator:\n",
    "            //statements\n",
    "        Iterators: List,Set,Tuple,String and Dictionary"
   ]
  },
  {
   "cell_type": "markdown",
   "id": "e847aa11-2da0-4b44-87f3-bfa5e6e7d8b9",
   "metadata": {},
   "source": [
    "## range:\n",
    "    - range(stop)\n",
    "        -> By default it starts with 0\n",
    "        -> It ends with stop-1 values\n",
    "        -> By default it increments with +1 value\n",
    "        Ex:\n",
    "            range(4)\n",
    "            0 1 2 3\n",
    "    - range(start,stop)\n",
    "        -> It starts with exactly with start value\n",
    "        -> It ends with stop-1 value\n",
    "        -> By default it increments with +1 value\n",
    "        Ex:\n",
    "            range(1,8)\n",
    "            1 2 3 4 5 6 7\n",
    "    - range(start,stop,step)\n",
    "        -> It starts exactly with start value\n",
    "        -> It ends with stop-1 value\n",
    "        -> It increments or decrements with step value\n",
    "        Ex:\n",
    "            range(1,10,3)\n",
    "            1 4 7"
   ]
  },
  {
   "cell_type": "code",
   "execution_count": 6,
   "id": "86df2ae1-08f7-49ed-85d8-c55d191dd254",
   "metadata": {},
   "outputs": [
    {
     "name": "stdin",
     "output_type": "stream",
     "text": [
      " 10\n"
     ]
    },
    {
     "name": "stdout",
     "output_type": "stream",
     "text": [
      "9 8 7 6 5 4 3 2 1 0 "
     ]
    }
   ],
   "source": [
    "n = int(input())\n",
    "for i in range(n):\n",
    "    print(n-i-1,end=\" \")"
   ]
  },
  {
   "cell_type": "code",
   "execution_count": 2,
   "id": "4bbbd955-d009-4e88-8894-8249caaf7a88",
   "metadata": {},
   "outputs": [
    {
     "name": "stdin",
     "output_type": "stream",
     "text": [
      " 10\n"
     ]
    },
    {
     "name": "stdout",
     "output_type": "stream",
     "text": [
      "0 2 4 6 8 "
     ]
    }
   ],
   "source": [
    "n = int(input())\n",
    "for i in range(n):\n",
    "    if i%2==0:\n",
    "        print(i,end=\" \")"
   ]
  },
  {
   "cell_type": "code",
   "execution_count": 3,
   "id": "58b46e6b-ab18-4a74-af38-82ed269ec9d1",
   "metadata": {},
   "outputs": [
    {
     "name": "stdin",
     "output_type": "stream",
     "text": [
      " 10\n",
      " 20\n"
     ]
    },
    {
     "name": "stdout",
     "output_type": "stream",
     "text": [
      "10 11 12 13 14 15 16 17 18 19 "
     ]
    }
   ],
   "source": [
    "n,m = int(input()),int(input())\n",
    "for i in range(n,m):\n",
    "    print(i,end=\" \")"
   ]
  },
  {
   "cell_type": "code",
   "execution_count": 4,
   "id": "18eb600a-9687-4775-8e0e-4d59cad95cf3",
   "metadata": {},
   "outputs": [
    {
     "name": "stdin",
     "output_type": "stream",
     "text": [
      " 30\n",
      " 40\n"
     ]
    },
    {
     "name": "stdout",
     "output_type": "stream",
     "text": [
      "39 38 37 36 35 34 33 32 31 30 "
     ]
    }
   ],
   "source": [
    "n,m = int(input()),int(input())\n",
    "for i in range(n,m):\n",
    "    print(n+m-i-1,end=\" \")"
   ]
  },
  {
   "cell_type": "code",
   "execution_count": 7,
   "id": "cf29d3b8-85d0-4885-8759-6ee27dec5c88",
   "metadata": {},
   "outputs": [
    {
     "name": "stdin",
     "output_type": "stream",
     "text": [
      " 20\n",
      " 50\n",
      " 2\n"
     ]
    },
    {
     "name": "stdout",
     "output_type": "stream",
     "text": [
      "20 22 24 26 28 30 32 34 36 38 40 42 44 46 48 "
     ]
    }
   ],
   "source": [
    "n,m,k = int(input()),int(input()),int(input())\n",
    "for i in range(n,m,k):\n",
    "    print(i,end=\" \")"
   ]
  },
  {
   "cell_type": "markdown",
   "id": "1eda053a-163c-4170-8673-54c07ad34dc0",
   "metadata": {},
   "source": [
    "## While:\n",
    "    Syntax:\n",
    "        Initialization\n",
    "        while condition:\n",
    "            //statements\n",
    "            incr/decr\n",
    "        () => optional"
   ]
  },
  {
   "cell_type": "code",
   "execution_count": 9,
   "id": "f9dd9a59-6520-4a5d-bf40-987772e34f7e",
   "metadata": {},
   "outputs": [
    {
     "name": "stdin",
     "output_type": "stream",
     "text": [
      " 20\n"
     ]
    },
    {
     "name": "stdout",
     "output_type": "stream",
     "text": [
      "0 1 2 3 4 5 6 7 8 9 10 11 12 13 14 15 16 17 18 19 "
     ]
    }
   ],
   "source": [
    "k = 0\n",
    "n = int(input())\n",
    "while k<n:\n",
    "    print(k,end=\" \")\n",
    "    k +=1"
   ]
  },
  {
   "cell_type": "code",
   "execution_count": 11,
   "id": "f41d6e81-b6e4-4d7a-8dd9-a8318f37dab0",
   "metadata": {},
   "outputs": [
    {
     "name": "stdin",
     "output_type": "stream",
     "text": [
      " 20\n"
     ]
    },
    {
     "name": "stdout",
     "output_type": "stream",
     "text": [
      "19 18 17 16 15 14 13 12 11 10 9 8 7 6 5 4 3 2 1 0 "
     ]
    }
   ],
   "source": [
    "n = int(input())\n",
    "while n!=0:\n",
    "    print(n-1,end=\" \")\n",
    "    n-=1"
   ]
  },
  {
   "cell_type": "markdown",
   "id": "a0fcf4b5-e409-4b16-88c5-00c5df9771b5",
   "metadata": {},
   "source": [
    "```\n",
    "Input:\n",
    "    Enter a number: 45787\n",
    "Output:\n",
    "    Entered number is 45787 and its reverse is: 78754\n",
    "```"
   ]
  },
  {
   "cell_type": "code",
   "execution_count": 14,
   "id": "d09af9f0-7b0f-456d-8d32-3ad1a38848f8",
   "metadata": {},
   "outputs": [
    {
     "name": "stdin",
     "output_type": "stream",
     "text": [
      " 45648\n"
     ]
    },
    {
     "name": "stdout",
     "output_type": "stream",
     "text": [
      "Entered number is: 45648 and its reverse is: 84654\n"
     ]
    }
   ],
   "source": [
    "n = b = int(input())\n",
    "r = 0\n",
    "while n!=0:\n",
    "    r = r*10+n%10\n",
    "    n = n//10\n",
    "print(f\"Entered number is: {b} and its reverse is: {r}\")"
   ]
  },
  {
   "cell_type": "code",
   "execution_count": null,
   "id": "7f7ea2f7-8651-4832-ab2f-f683a8fd4e58",
   "metadata": {},
   "outputs": [],
   "source": []
  }
 ],
 "metadata": {
  "kernelspec": {
   "display_name": "Python 3 (ipykernel)",
   "language": "python",
   "name": "python3"
  },
  "language_info": {
   "codemirror_mode": {
    "name": "ipython",
    "version": 3
   },
   "file_extension": ".py",
   "mimetype": "text/x-python",
   "name": "python",
   "nbconvert_exporter": "python",
   "pygments_lexer": "ipython3",
   "version": "3.9.6"
  }
 },
 "nbformat": 4,
 "nbformat_minor": 5
}
